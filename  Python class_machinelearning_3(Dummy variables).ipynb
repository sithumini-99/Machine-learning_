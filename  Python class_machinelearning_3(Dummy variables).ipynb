{
 "cells": [
  {
   "cell_type": "code",
   "execution_count": null,
   "id": "8e1437a4",
   "metadata": {},
   "outputs": [],
   "source": [
    "import pandas as pd\n",
    "import numpy as np\n",
    "from sklearn.model_selection import train_test_split #class to validations\n",
    "from sklearn.linear_model import LinearRegression\n",
    "from sklearn.metrics import mean_squared_error#to measure the accuracy\n",
    "\n"
   ]
  },
  {
   "cell_type": "code",
   "execution_count": null,
   "id": "a583b822",
   "metadata": {},
   "outputs": [],
   "source": [
    "data=pd.read_csv(\"E:\\\\Data scienec Master class\\\\notes\\\\machine learning\\\\datasets\\\\GPA.csv\")"
   ]
  },
  {
   "cell_type": "code",
   "execution_count": null,
   "id": "bd71b656",
   "metadata": {},
   "outputs": [],
   "source": [
    "data.head()"
   ]
  },
  {
   "cell_type": "code",
   "execution_count": null,
   "id": "e7496284",
   "metadata": {},
   "outputs": [],
   "source": [
    "data[\"Gender\"].value_counts()"
   ]
  },
  {
   "cell_type": "code",
   "execution_count": null,
   "id": "22f46841",
   "metadata": {},
   "outputs": [],
   "source": [
    "data[\"Gender\"].value_counts()"
   ]
  },
  {
   "cell_type": "code",
   "execution_count": null,
   "id": "50b1d472",
   "metadata": {},
   "outputs": [],
   "source": [
    "data[\"branch\"].value_counts()"
   ]
  },
  {
   "cell_type": "code",
   "execution_count": null,
   "id": "fa8278c8",
   "metadata": {},
   "outputs": [],
   "source": [
    "dfc=data[[\"Gender\",\"Spec\",\"branch\"]]\n",
    "dfc"
   ]
  },
  {
   "cell_type": "code",
   "execution_count": null,
   "id": "ab4738c7",
   "metadata": {},
   "outputs": [],
   "source": [
    "dfc1=pd.get_dummies(dfc)#converting to dummies\n",
    "dfc1"
   ]
  },
  {
   "cell_type": "code",
   "execution_count": null,
   "id": "0731d493",
   "metadata": {},
   "outputs": [],
   "source": [
    "dfc1.drop([\"Gender_F\",\"Spec_ACC\",\"branch_A\"],axis=1,inplace=True)#Spec ACC select because when it is 1  all others are 0 so we can remove it"
   ]
  },
  {
   "cell_type": "code",
   "execution_count": null,
   "id": "43747aeb",
   "metadata": {},
   "outputs": [],
   "source": [
    "dfc1.head()"
   ]
  },
  {
   "cell_type": "code",
   "execution_count": null,
   "id": "c7d3022f",
   "metadata": {},
   "outputs": [],
   "source": [
    "# concatinate with original data set\n",
    "data1=pd.concat([data,dfc1],axis=1)#Since we using axis wise combinaning so that's why we put as axis =1\n",
    "data1"
   ]
  },
  {
   "cell_type": "code",
   "execution_count": null,
   "id": "9986478b",
   "metadata": {},
   "outputs": [],
   "source": [
    "data1.drop([\"Gender\",\"Spec\",\"branch\"],axis=1,inplace=True)"
   ]
  },
  {
   "cell_type": "code",
   "execution_count": null,
   "id": "5874a0ac",
   "metadata": {},
   "outputs": [],
   "source": [
    "data1.head()"
   ]
  },
  {
   "cell_type": "code",
   "execution_count": null,
   "id": "d0e0e48a",
   "metadata": {},
   "outputs": [],
   "source": [
    "# Move GPA column to the end\n",
    "\n",
    "gpa = data1.pop('GPA')  # Remove GPA column\n",
    "data1['GPA'] = gpa      # Add GPA column to the end\n",
    "data1.head()"
   ]
  },
  {
   "cell_type": "code",
   "execution_count": null,
   "id": "d258d0ae",
   "metadata": {},
   "outputs": [],
   "source": [
    "# Check for missing values\n",
    "missing_values = data1.isnull().sum()\n",
    "\n",
    "# Display columns with missing values\n",
    "print(\"Missing values in each column:\")\n",
    "print(missing_values)"
   ]
  },
  {
   "cell_type": "code",
   "execution_count": null,
   "id": "53da4c3d",
   "metadata": {},
   "outputs": [],
   "source": [
    "# Fill missing values in 'School_AV' and 'Age' with their respective mean\n",
    "data1['School_AV'].fillna(data1['School_AV'].mean(), inplace=True)\n",
    "data1['Age'].fillna(data1['Age'].mean(), inplace=True)\n"
   ]
  },
  {
   "cell_type": "code",
   "execution_count": null,
   "id": "e893e0ff",
   "metadata": {},
   "outputs": [],
   "source": [
    "# Check for missing values\n",
    "missing_values = data1.isnull().sum()\n",
    "\n",
    "# Display columns with missing values\n",
    "print(\"Missing values in each column:\")\n",
    "print(missing_values)"
   ]
  },
  {
   "cell_type": "code",
   "execution_count": null,
   "id": "58fb0d89",
   "metadata": {},
   "outputs": [],
   "source": [
    " data1.head()"
   ]
  },
  {
   "cell_type": "code",
   "execution_count": null,
   "id": "ff45eca0",
   "metadata": {},
   "outputs": [],
   "source": [
    "#split varibles into x and y\n",
    "x=data1.iloc[:,:9].values\n",
    "y=data1.iloc[:,9].values\n",
    "#value command covert into arrays\n"
   ]
  },
  {
   "cell_type": "code",
   "execution_count": null,
   "id": "53d0efb1",
   "metadata": {},
   "outputs": [],
   "source": [
    "# Split the data: 80% training, 20% testing\n",
    "x_train,x_test,y_train,y_test=train_test_split(x,y,test_size=0.2,random_state=0)"
   ]
  },
  {
   "cell_type": "code",
   "execution_count": null,
   "id": "f420048e",
   "metadata": {},
   "outputs": [],
   "source": [
    "x_train"
   ]
  },
  {
   "cell_type": "code",
   "execution_count": null,
   "id": "333890a3",
   "metadata": {},
   "outputs": [],
   "source": [
    "# Initialize the model\n",
    "model = LinearRegression()\n",
    "\n",
    "# Train the model on the training data\n",
    "\n",
    "model.fit(x_train,y_train)"
   ]
  },
  {
   "cell_type": "code",
   "execution_count": null,
   "id": "df32d10e",
   "metadata": {},
   "outputs": [],
   "source": [
    "#Model coefficients\n",
    "model.coef_"
   ]
  },
  {
   "cell_type": "code",
   "execution_count": null,
   "id": "a2322d14",
   "metadata": {},
   "outputs": [],
   "source": [
    "#model intercepts\n",
    "model.intercept_"
   ]
  },
  {
   "cell_type": "code",
   "execution_count": null,
   "id": "5112719c",
   "metadata": {},
   "outputs": [],
   "source": [
    "#R-squared Score\n",
    "model.score(x_train,y_train)"
   ]
  },
  {
   "cell_type": "code",
   "execution_count": null,
   "id": "fdb243d5",
   "metadata": {},
   "outputs": [],
   "source": [
    "y_predict=model.predict(x_test)"
   ]
  },
  {
   "cell_type": "code",
   "execution_count": null,
   "id": "0f300b48",
   "metadata": {},
   "outputs": [],
   "source": [
    "#Mean Squared Error (MSE)\n",
    "mean_squared_error(y_predict,y_test)"
   ]
  },
  {
   "cell_type": "code",
   "execution_count": null,
   "id": "f3cf9943",
   "metadata": {},
   "outputs": [],
   "source": [
    "#Root of MSE\n",
    "np.sqrt(mean_squared_error(y_predict,y_test))"
   ]
  },
  {
   "cell_type": "code",
   "execution_count": null,
   "id": "8c84e48c",
   "metadata": {},
   "outputs": [],
   "source": []
  }
 ],
 "metadata": {
  "kernelspec": {
   "display_name": "Python 3 (ipykernel)",
   "language": "python",
   "name": "python3"
  },
  "language_info": {
   "codemirror_mode": {
    "name": "ipython",
    "version": 3
   },
   "file_extension": ".py",
   "mimetype": "text/x-python",
   "name": "python",
   "nbconvert_exporter": "python",
   "pygments_lexer": "ipython3",
   "version": "3.10.9"
  }
 },
 "nbformat": 4,
 "nbformat_minor": 5
}
